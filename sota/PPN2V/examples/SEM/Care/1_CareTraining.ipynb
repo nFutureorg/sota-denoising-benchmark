{
 "cells": [
  {
   "cell_type": "markdown",
   "metadata": {},
   "source": [
    "# Supervised CARE Training\n",
    "\n",
    "Here we use CARE training using noisy images as input and averaged noisy images as target."
   ]
  },
  {
   "cell_type": "code",
   "execution_count": 2,
   "metadata": {
    "tags": []
   },
   "outputs": [
    {
     "name": "stdout",
     "output_type": "stream",
     "text": [
      "CUDA available? True\n"
     ]
    }
   ],
   "source": [
    "import warnings\n",
    "warnings.filterwarnings('ignore')\n",
    "import matplotlib.pyplot as plt\n",
    "import numpy as np\n",
    "import sys\n",
    "sys.path.append('../../../')\n",
    "from unet.model import UNet\n",
    "from pn2v import utils\n",
    "from pn2v import histNoiseModel\n",
    "from pn2v import training\n",
    "from tifffile import imread\n",
    "# See if we can use a GPU\n",
    "device=utils.getDevice()"
   ]
  },
  {
   "cell_type": "markdown",
   "metadata": {},
   "source": [
    "### Download data\n",
    "Download the data from https://zenodo.org/record/5156913/files/Convallaria_diaphragm.zip?download=1. Here we show the pipeline for Convallaria dataset. Save the dataset in an appropriate path. For us, the path is the data folder which exists at `../../../`. For Convallaria, the data to be denoised is named ```20190520_tl_25um_50msec_05pc_488_130EM_Conv.tif```."
   ]
  },
  {
   "cell_type": "code",
   "execution_count": 2,
   "metadata": {
    "collapsed": true,
    "jupyter": {
     "outputs_hidden": true
    }
   },
   "outputs": [],
   "source": [
    "# Download data\n",
    "import os\n",
    "import urllib\n",
    "import zipfile\n",
    "\n",
    "if not os.path.isdir('../../../data'):\n",
    "    os.mkdir('../../../data')\n",
    "\n",
    "zipPath=\"../../../data/Convallaria_diaphragm.zip\"\n",
    "if not os.path.exists(zipPath):  \n",
    "    data = urllib.request.urlretrieve('https://zenodo.org/record/5156913/files/Convallaria_diaphragm.zip?download=1', zipPath)\n",
    "    with zipfile.ZipFile(zipPath, 'r') as zip_ref:\n",
    "        zip_ref.extractall(\"../../../data\")\n"
   ]
  },
  {
   "cell_type": "markdown",
   "metadata": {},
   "source": [
    "### Load Data\n",
    "#### Ensure ```filename = 20190520_tl_25um_50msec_05pc_488_130EM_Conv.tif``` and specify the ```dataname```  "
   ]
  },
  {
   "cell_type": "code",
   "execution_count": 19,
   "metadata": {
    "tags": []
   },
   "outputs": [],
   "source": [
    "path='../dataset/'\n",
    "fileName='pollen.spd1.0098.tiff'\n",
    "dataName='sem' # This will be used to name the \"care\" model"
   ]
  },
  {
   "cell_type": "markdown",
   "metadata": {},
   "source": [
    "#### Noisy Data (Input to network)"
   ]
  },
  {
   "cell_type": "code",
   "execution_count": 20,
   "metadata": {
    "tags": []
   },
   "outputs": [],
   "source": [
    "data=imread(path+fileName)\n",
    "nameModel=dataName+'_care'"
   ]
  },
  {
   "cell_type": "markdown",
   "metadata": {},
   "source": [
    "#### Ground truth  Data (Target of Network)"
   ]
  },
  {
   "cell_type": "code",
   "execution_count": 21,
   "metadata": {
    "tags": []
   },
   "outputs": [],
   "source": [
    "dataGT = np.mean(data, axis=0)[np.newaxis,...,np.newaxis]"
   ]
  },
  {
   "cell_type": "code",
   "execution_count": 22,
   "metadata": {},
   "outputs": [
    {
     "name": "stdout",
     "output_type": "stream",
     "text": [
      "Shape of Raw Noisy Image is  (768, 1024, 1) ; Shape of Target Image is  (768, 1024, 1)\n",
      "Shape of `data` is  (768, 1024, 2)\n"
     ]
    }
   ],
   "source": [
    "data=data[...,np.newaxis]\n",
    "dataGT = np.repeat(dataGT, 768, axis=0)\n",
    "\n",
    "print(\"Shape of Raw Noisy Image is \", data.shape, \"; Shape of Target Image is \", dataGT.shape)\n",
    "data = np.concatenate((data,dataGT),axis=-1)\n",
    "# Add the target image as a second channel to `data`\n",
    "print(\"Shape of `data` is \", data.shape)"
   ]
  },
  {
   "cell_type": "code",
   "execution_count": 23,
   "metadata": {},
   "outputs": [
    {
     "ename": "IndexError",
     "evalue": "too many indices for array: array is 3-dimensional, but 4 were indexed",
     "output_type": "error",
     "traceback": [
      "\u001b[0;31m---------------------------------------------------------------------------\u001b[0m",
      "\u001b[0;31mIndexError\u001b[0m                                Traceback (most recent call last)",
      "Input \u001b[0;32mIn [23]\u001b[0m, in \u001b[0;36m<cell line: 3>\u001b[0;34m()\u001b[0m\n\u001b[1;32m      1\u001b[0m plt\u001b[38;5;241m.\u001b[39mfigure(figsize\u001b[38;5;241m=\u001b[39m(\u001b[38;5;241m20\u001b[39m, \u001b[38;5;241m10\u001b[39m))\n\u001b[1;32m      2\u001b[0m plt\u001b[38;5;241m.\u001b[39msubplot(\u001b[38;5;241m2\u001b[39m,\u001b[38;5;241m2\u001b[39m,\u001b[38;5;241m1\u001b[39m)\n\u001b[0;32m----> 3\u001b[0m plt\u001b[38;5;241m.\u001b[39mimshow(\u001b[43mdata\u001b[49m\u001b[43m[\u001b[49m\u001b[38;5;241;43m0\u001b[39;49m\u001b[43m,\u001b[49m\u001b[43m:\u001b[49m\u001b[38;5;241;43m512\u001b[39;49m\u001b[43m,\u001b[49m\u001b[43m:\u001b[49m\u001b[38;5;241;43m512\u001b[39;49m\u001b[43m,\u001b[49m\u001b[38;5;241;43m0\u001b[39;49m\u001b[43m]\u001b[49m)\n\u001b[1;32m      4\u001b[0m plt\u001b[38;5;241m.\u001b[39mtitle(\u001b[38;5;124m'\u001b[39m\u001b[38;5;124mTop Left\u001b[39m\u001b[38;5;124m'\u001b[39m)\n\u001b[1;32m      6\u001b[0m plt\u001b[38;5;241m.\u001b[39msubplot(\u001b[38;5;241m2\u001b[39m,\u001b[38;5;241m2\u001b[39m,\u001b[38;5;241m2\u001b[39m)\n",
      "\u001b[0;31mIndexError\u001b[0m: too many indices for array: array is 3-dimensional, but 4 were indexed"
     ]
    },
    {
     "data": {
      "image/png": "[encoded data removed]",
      "text/plain": [
       "<Figure size 1440x720 with 1 Axes>"
      ]
     },
     "metadata": {
      "needs_background": "light"
     },
     "output_type": "display_data"
    }
   ],
   "source": [
    "plt.figure(figsize=(20, 10))\n",
    "plt.subplot(2,2,1)\n",
    "plt.imshow(data[0,:512,:512,0])\n",
    "plt.title('Top Left')\n",
    "\n",
    "plt.subplot(2,2,2)\n",
    "plt.imshow(data[0,:512,512:,0])\n",
    "plt.title('Top Right')\n",
    "\n",
    "plt.subplot(2,2,3)\n",
    "plt.imshow(data[0,512:,:512,0])\n",
    "plt.title('Bottom Left')\n",
    "\n",
    "plt.subplot(2,2,4)\n",
    "plt.imshow(data[0,512:,512:,0])\n",
    "plt.title('Bottom Right')\n",
    "plt.show()\n",
    "\n",
    "# We now crop away the top-left portion of the data since this portion will be used later for testing\n",
    "data=np.concatenate( (data[:,512:,512:,:], data[:,:512,512:,:], data[:,512:,:512,:])  )"
   ]
  },
  {
   "cell_type": "markdown",
   "metadata": {},
   "source": [
    "### Create the Network and Train it\n",
    "This can take a while. Ensure that `supervised` = `True`."
   ]
  },
  {
   "cell_type": "code",
   "execution_count": 24,
   "metadata": {},
   "outputs": [
    {
     "ename": "IndexError",
     "evalue": "tuple index out of range",
     "output_type": "error",
     "traceback": [
      "\u001b[0;31m---------------------------------------------------------------------------\u001b[0m",
      "\u001b[0;31mIndexError\u001b[0m                                Traceback (most recent call last)",
      "Input \u001b[0;32mIn [24]\u001b[0m, in \u001b[0;36m<cell line: 9>\u001b[0;34m()\u001b[0m\n\u001b[1;32m      6\u001b[0m my_val_data\u001b[38;5;241m=\u001b[39mdata[\u001b[38;5;241m-\u001b[39m\u001b[38;5;241m5\u001b[39m:]\u001b[38;5;241m.\u001b[39mcopy()\n\u001b[1;32m      8\u001b[0m \u001b[38;5;66;03m# Start training.\u001b[39;00m\n\u001b[0;32m----> 9\u001b[0m trainHist, valHist \u001b[38;5;241m=\u001b[39m \u001b[43mtraining\u001b[49m\u001b[38;5;241;43m.\u001b[39;49m\u001b[43mtrainNetwork\u001b[49m\u001b[43m(\u001b[49m\u001b[43mnet\u001b[49m\u001b[38;5;241;43m=\u001b[39;49m\u001b[43mnet\u001b[49m\u001b[43m,\u001b[49m\u001b[43m \u001b[49m\u001b[43mtrainData\u001b[49m\u001b[38;5;241;43m=\u001b[39;49m\u001b[43mmy_train_data\u001b[49m\u001b[43m,\u001b[49m\u001b[43m \u001b[49m\u001b[43mvalData\u001b[49m\u001b[38;5;241;43m=\u001b[39;49m\u001b[43mmy_val_data\u001b[49m\u001b[43m,\u001b[49m\n\u001b[1;32m     10\u001b[0m \u001b[43m                                           \u001b[49m\u001b[43mpostfix\u001b[49m\u001b[38;5;241;43m=\u001b[39;49m\u001b[43mnameModel\u001b[49m\u001b[43m,\u001b[49m\u001b[43m \u001b[49m\u001b[43mdirectory\u001b[49m\u001b[38;5;241;43m=\u001b[39;49m\u001b[43mpath\u001b[49m\u001b[43m,\u001b[49m\u001b[43m \u001b[49m\u001b[43mnoiseModel\u001b[49m\u001b[38;5;241;43m=\u001b[39;49m\u001b[38;5;28;43;01mNone\u001b[39;49;00m\u001b[43m,\u001b[49m\n\u001b[1;32m     11\u001b[0m \u001b[43m                                           \u001b[49m\u001b[43mdevice\u001b[49m\u001b[38;5;241;43m=\u001b[39;49m\u001b[43mdevice\u001b[49m\u001b[43m,\u001b[49m\u001b[43m \u001b[49m\u001b[43mnumOfEpochs\u001b[49m\u001b[38;5;241;43m=\u001b[39;49m\u001b[43m \u001b[49m\u001b[38;5;241;43m200\u001b[39;49m\u001b[43m,\u001b[49m\u001b[43m \u001b[49m\u001b[43mstepsPerEpoch\u001b[49m\u001b[38;5;241;43m=\u001b[39;49m\u001b[38;5;241;43m5\u001b[39;49m\u001b[43m,\u001b[49m\u001b[43m \u001b[49m\n\u001b[1;32m     12\u001b[0m \u001b[43m                                           \u001b[49m\u001b[43mvirtualBatchSize\u001b[49m\u001b[38;5;241;43m=\u001b[39;49m\u001b[38;5;241;43m20\u001b[39;49m\u001b[43m,\u001b[49m\u001b[43m \u001b[49m\u001b[43mbatchSize\u001b[49m\u001b[38;5;241;43m=\u001b[39;49m\u001b[38;5;241;43m1\u001b[39;49m\u001b[43m,\u001b[49m\u001b[43m \u001b[49m\u001b[43mlearningRate\u001b[49m\u001b[38;5;241;43m=\u001b[39;49m\u001b[38;5;241;43m1e-3\u001b[39;49m\u001b[43m,\u001b[49m\u001b[43m \u001b[49m\u001b[43msupervised\u001b[49m\u001b[38;5;241;43m=\u001b[39;49m\u001b[38;5;28;43;01mTrue\u001b[39;49;00m\u001b[43m)\u001b[49m\n",
      "File \u001b[0;32m~/Desktop/PhD/sota-denoising-benchmark/sota/PPN2V/examples/SEM/Care/../../../pn2v/training.py:367\u001b[0m, in \u001b[0;36mtrainNetwork\u001b[0;34m(net, trainData, valData, noiseModel, postfix, device, directory, numOfEpochs, stepsPerEpoch, batchSize, patchSize, learningRate, numMaskedPixels, virtualBatchSize, valSize, augment, supervised)\u001b[0m\n\u001b[1;32m    365\u001b[0m \u001b[38;5;66;03m# Loop over our virtual batch\u001b[39;00m\n\u001b[1;32m    366\u001b[0m \u001b[38;5;28;01mfor\u001b[39;00m a \u001b[38;5;129;01min\u001b[39;00m \u001b[38;5;28mrange\u001b[39m (virtualBatchSize):\n\u001b[0;32m--> 367\u001b[0m     outputs, labels, masks, dataCounter \u001b[38;5;241m=\u001b[39m \u001b[43mtrainingPred\u001b[49m\u001b[43m(\u001b[49m\u001b[43mtrainData\u001b[49m\u001b[43m,\u001b[49m\n\u001b[1;32m    368\u001b[0m \u001b[43m                                                       \u001b[49m\u001b[43mnet\u001b[49m\u001b[43m,\u001b[49m\n\u001b[1;32m    369\u001b[0m \u001b[43m                                                       \u001b[49m\u001b[43mdataCounter\u001b[49m\u001b[43m,\u001b[49m\n\u001b[1;32m    370\u001b[0m \u001b[43m                                                       \u001b[49m\u001b[43mpatchSize\u001b[49m\u001b[43m,\u001b[49m\u001b[43m \u001b[49m\n\u001b[1;32m    371\u001b[0m \u001b[43m                                                       \u001b[49m\u001b[43mbatchSize\u001b[49m\u001b[43m,\u001b[49m\n\u001b[1;32m    372\u001b[0m \u001b[43m                                                       \u001b[49m\u001b[43mnumMaskedPixels\u001b[49m\u001b[43m,\u001b[49m\n\u001b[1;32m    373\u001b[0m \u001b[43m                                                       \u001b[49m\u001b[43mdevice\u001b[49m\u001b[43m,\u001b[49m\n\u001b[1;32m    374\u001b[0m \u001b[43m                                                       \u001b[49m\u001b[43maugment\u001b[49m\u001b[43m \u001b[49m\u001b[38;5;241;43m=\u001b[39;49m\u001b[43m \u001b[49m\u001b[43maugment\u001b[49m\u001b[43m,\u001b[49m\n\u001b[1;32m    375\u001b[0m \u001b[43m                                                       \u001b[49m\u001b[43msupervised\u001b[49m\u001b[43m \u001b[49m\u001b[38;5;241;43m=\u001b[39;49m\u001b[43m \u001b[49m\u001b[43msupervised\u001b[49m\u001b[43m)\u001b[49m\n\u001b[1;32m    376\u001b[0m     loss\u001b[38;5;241m=\u001b[39mlossFunction(outputs, labels, masks, noiseModel, pn2v, net\u001b[38;5;241m.\u001b[39mstd)\n\u001b[1;32m    377\u001b[0m     loss\u001b[38;5;241m.\u001b[39mbackward()\n",
      "File \u001b[0;32m~/Desktop/PhD/sota-denoising-benchmark/sota/PPN2V/examples/SEM/Care/../../../pn2v/training.py:224\u001b[0m, in \u001b[0;36mtrainingPred\u001b[0;34m(my_train_data, net, dataCounter, size, bs, numPix, device, augment, supervised)\u001b[0m\n\u001b[1;32m    222\u001b[0m \u001b[38;5;66;03m# Assemble mini batch\u001b[39;00m\n\u001b[1;32m    223\u001b[0m \u001b[38;5;28;01mfor\u001b[39;00m j \u001b[38;5;129;01min\u001b[39;00m \u001b[38;5;28mrange\u001b[39m(bs):\n\u001b[0;32m--> 224\u001b[0m     im,l,m, dataCounter\u001b[38;5;241m=\u001b[39m\u001b[43mrandomCropFRI\u001b[49m\u001b[43m(\u001b[49m\u001b[43mmy_train_data\u001b[49m\u001b[43m,\u001b[49m\n\u001b[1;32m    225\u001b[0m \u001b[43m                                      \u001b[49m\u001b[43msize\u001b[49m\u001b[43m,\u001b[49m\n\u001b[1;32m    226\u001b[0m \u001b[43m                                      \u001b[49m\u001b[43mnumPix\u001b[49m\u001b[43m,\u001b[49m\n\u001b[1;32m    227\u001b[0m \u001b[43m                                      \u001b[49m\u001b[43mcounter\u001b[49m\u001b[38;5;241;43m=\u001b[39;49m\u001b[43mdataCounter\u001b[49m\u001b[43m,\u001b[49m\n\u001b[1;32m    228\u001b[0m \u001b[43m                                      \u001b[49m\u001b[43maugment\u001b[49m\u001b[38;5;241;43m=\u001b[39;49m\u001b[43maugment\u001b[49m\u001b[43m,\u001b[49m\n\u001b[1;32m    229\u001b[0m \u001b[43m                                      \u001b[49m\u001b[43msupervised\u001b[49m\u001b[38;5;241;43m=\u001b[39;49m\u001b[43msupervised\u001b[49m\u001b[43m)\u001b[49m\n\u001b[1;32m    230\u001b[0m     inputs[j,:,:,:]\u001b[38;5;241m=\u001b[39mutils\u001b[38;5;241m.\u001b[39mimgToTensor(im)\n\u001b[1;32m    231\u001b[0m     labels[j,:,:]\u001b[38;5;241m=\u001b[39mutils\u001b[38;5;241m.\u001b[39mimgToTensor(l)\n",
      "File \u001b[0;32m~/Desktop/PhD/sota-denoising-benchmark/sota/PPN2V/examples/SEM/Care/../../../pn2v/training.py:94\u001b[0m, in \u001b[0;36mrandomCropFRI\u001b[0;34m(data, size, numPix, supervised, counter, augment)\u001b[0m\n\u001b[1;32m     91\u001b[0m     imgClean\u001b[38;5;241m=\u001b[39mimg\n\u001b[1;32m     92\u001b[0m     manipulate\u001b[38;5;241m=\u001b[39m\u001b[38;5;28;01mTrue\u001b[39;00m\n\u001b[0;32m---> 94\u001b[0m imgOut, imgOutC, mask \u001b[38;5;241m=\u001b[39m \u001b[43mrandomCrop\u001b[49m\u001b[43m(\u001b[49m\u001b[43mimg\u001b[49m\u001b[43m,\u001b[49m\u001b[43m \u001b[49m\u001b[43msize\u001b[49m\u001b[43m,\u001b[49m\u001b[43m \u001b[49m\u001b[43mnumPix\u001b[49m\u001b[43m,\u001b[49m\n\u001b[1;32m     95\u001b[0m \u001b[43m                                  \u001b[49m\u001b[43mimgClean\u001b[49m\u001b[38;5;241;43m=\u001b[39;49m\u001b[43mimgClean\u001b[49m\u001b[43m,\u001b[49m\n\u001b[1;32m     96\u001b[0m \u001b[43m                                  \u001b[49m\u001b[43maugment\u001b[49m\u001b[38;5;241;43m=\u001b[39;49m\u001b[43maugment\u001b[49m\u001b[43m,\u001b[49m\n\u001b[1;32m     97\u001b[0m \u001b[43m                                  \u001b[49m\u001b[43mmanipulate\u001b[49m\u001b[43m \u001b[49m\u001b[38;5;241;43m=\u001b[39;49m\u001b[43m \u001b[49m\u001b[43mmanipulate\u001b[49m\u001b[43m \u001b[49m\u001b[43m)\u001b[49m\n\u001b[1;32m     99\u001b[0m \u001b[38;5;28;01mreturn\u001b[39;00m imgOut, imgOutC, mask, counter\n",
      "File \u001b[0;32m~/Desktop/PhD/sota-denoising-benchmark/sota/PPN2V/examples/SEM/Care/../../../pn2v/training.py:133\u001b[0m, in \u001b[0;36mrandomCrop\u001b[0;34m(img, size, numPix, imgClean, augment, manipulate)\u001b[0m\n\u001b[1;32m    102\u001b[0m \u001b[38;5;124;03m'''\u001b[39;00m\n\u001b[1;32m    103\u001b[0m \u001b[38;5;124;03mCuts out a random crop from an image.\u001b[39;00m\n\u001b[1;32m    104\u001b[0m \u001b[38;5;124;03mManipulates pixels in the image (N2V style) and produces the corresponding mask of manipulated pixels.\u001b[39;00m\n\u001b[0;32m   (...)\u001b[0m\n\u001b[1;32m    129\u001b[0m \u001b[38;5;124;03m    In N2V or PN2V only these pixels should be used to calculate gradients.\u001b[39;00m\n\u001b[1;32m    130\u001b[0m \u001b[38;5;124;03m'''\u001b[39;00m\n\u001b[1;32m    132\u001b[0m \u001b[38;5;28;01massert\u001b[39;00m img\u001b[38;5;241m.\u001b[39mshape[\u001b[38;5;241m0\u001b[39m] \u001b[38;5;241m>\u001b[39m\u001b[38;5;241m=\u001b[39m size\n\u001b[0;32m--> 133\u001b[0m \u001b[38;5;28;01massert\u001b[39;00m \u001b[43mimg\u001b[49m\u001b[38;5;241;43m.\u001b[39;49m\u001b[43mshape\u001b[49m\u001b[43m[\u001b[49m\u001b[38;5;241;43m1\u001b[39;49m\u001b[43m]\u001b[49m \u001b[38;5;241m>\u001b[39m\u001b[38;5;241m=\u001b[39m size\n\u001b[1;32m    135\u001b[0m x \u001b[38;5;241m=\u001b[39m np\u001b[38;5;241m.\u001b[39mrandom\u001b[38;5;241m.\u001b[39mrandint(\u001b[38;5;241m0\u001b[39m, img\u001b[38;5;241m.\u001b[39mshape[\u001b[38;5;241m1\u001b[39m] \u001b[38;5;241m-\u001b[39m size \u001b[38;5;241m+\u001b[39m \u001b[38;5;241m1\u001b[39m)\n\u001b[1;32m    136\u001b[0m y \u001b[38;5;241m=\u001b[39m np\u001b[38;5;241m.\u001b[39mrandom\u001b[38;5;241m.\u001b[39mrandint(\u001b[38;5;241m0\u001b[39m, img\u001b[38;5;241m.\u001b[39mshape[\u001b[38;5;241m0\u001b[39m] \u001b[38;5;241m-\u001b[39m size \u001b[38;5;241m+\u001b[39m \u001b[38;5;241m1\u001b[39m)\n",
      "\u001b[0;31mIndexError\u001b[0m: tuple index out of range"
     ]
    }
   ],
   "source": [
    "# The N2V network requires only a single output unit per pixel\n",
    "net = UNet(1, depth=3)\n",
    "\n",
    "# Split training and validation data.\n",
    "my_train_data=data[:-5].copy()\n",
    "my_val_data=data[-5:].copy()\n",
    "\n",
    "# Start training.\n",
    "trainHist, valHist = training.trainNetwork(net=net, trainData=my_train_data, valData=my_val_data,\n",
    "                                           postfix=nameModel, directory=path, noiseModel=None,\n",
    "                                           device=device, numOfEpochs= 200, stepsPerEpoch=5, \n",
    "                                           virtualBatchSize=20, batchSize=1, learningRate=1e-3, supervised=True)"
   ]
  },
  {
   "cell_type": "code",
   "execution_count": 9,
   "metadata": {
    "scrolled": true
   },
   "outputs": [
    {
     "data": {
      "image/png": "[encoded data removed]",
      "text/plain": [
       "<Figure size 432x288 with 1 Axes>"
      ]
     },
     "metadata": {
      "needs_background": "light"
     },
     "output_type": "display_data"
    }
   ],
   "source": [
    "# Let's look at the training and validation loss\n",
    "plt.xlabel('epoch')\n",
    "plt.ylabel('loss')\n",
    "plt.plot(valHist, label='validation loss')\n",
    "plt.plot(trainHist, label='training loss')\n",
    "plt.legend()\n",
    "plt.show()"
   ]
  },
  {
   "cell_type": "code",
   "execution_count": null,
   "metadata": {
    "collapsed": true,
    "jupyter": {
     "outputs_hidden": true
    }
   },
   "outputs": [],
   "source": []
  }
 ],
 "metadata": {
  "kernelspec": {
   "display_name": "Python 3 (ipykernel)",
   "language": "python",
   "name": "python3"
  },
  "language_info": {
   "codemirror_mode": {
    "name": "ipython",
    "version": 3
   },
   "file_extension": ".py",
   "mimetype": "text/x-python",
   "name": "python",
   "nbconvert_exporter": "python",
   "pygments_lexer": "ipython3",
   "version": "3.9.12"
  }
 },
 "nbformat": 4,
 "nbformat_minor": 4
}
